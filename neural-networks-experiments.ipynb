{
 "cells": [
  {
   "cell_type": "code",
   "execution_count": 24,
   "metadata": {},
   "outputs": [],
   "source": [
    "import numpy as np\n",
    "import pandas as pd\n",
    "import matplotlib.pyplot as plt\n",
    "%matplotlib inline\n",
    "\n",
    "import time"
   ]
  },
  {
   "cell_type": "code",
   "execution_count": 2,
   "metadata": {},
   "outputs": [
    {
     "data": {
      "text/plain": [
       "Index(['Title', 'Artist', 'ConstituentID', 'ArtistBio', 'Nationality',\n",
       "       'BeginDate', 'EndDate', 'Gender', 'Date', 'Medium', 'Dimensions',\n",
       "       'CreditLine', 'AccessionNumber', 'Classification', 'Department',\n",
       "       'DateAcquired', 'Cataloged', 'ObjectID', 'URL', 'ThumbnailURL',\n",
       "       'Circumference (cm)', 'Depth (cm)', 'Diameter (cm)', 'Height (cm)',\n",
       "       'Length (cm)', 'Weight (kg)', 'Width (cm)', 'Seat Height (cm)',\n",
       "       'Duration (sec.)'],\n",
       "      dtype='object')"
      ]
     },
     "execution_count": 2,
     "metadata": {},
     "output_type": "execute_result"
    }
   ],
   "source": [
    "artworks = pd.read_csv('https://media.githubusercontent.com/media/MuseumofModernArt/collection/master/Artworks.csv')\n",
    "artworks.columns"
   ]
  },
  {
   "cell_type": "code",
   "execution_count": 3,
   "metadata": {},
   "outputs": [],
   "source": [
    "# Select Columns.\n",
    "artworks = artworks[['Artist', 'Nationality', 'Gender', 'Date', 'Department',\n",
    "                    'DateAcquired', 'URL', 'ThumbnailURL', 'Height (cm)', 'Width (cm)']]\n",
    "\n",
    "# Convert URL's to booleans.\n",
    "artworks['URL'] = artworks['URL'].notnull()\n",
    "artworks['ThumbnailURL'] = artworks['ThumbnailURL'].notnull()\n",
    "\n",
    "# Drop films and some other tricky rows.\n",
    "artworks = artworks[artworks['Department']!='Film']\n",
    "artworks = artworks[artworks['Department']!='Media and Performance Art']\n",
    "artworks = artworks[artworks['Department']!='Fluxus Collection']\n",
    "\n",
    "# Drop missing data.\n",
    "artworks = artworks.dropna()"
   ]
  },
  {
   "cell_type": "code",
   "execution_count": 4,
   "metadata": {},
   "outputs": [
    {
     "data": {
      "text/html": [
       "<div>\n",
       "<style scoped>\n",
       "    .dataframe tbody tr th:only-of-type {\n",
       "        vertical-align: middle;\n",
       "    }\n",
       "\n",
       "    .dataframe tbody tr th {\n",
       "        vertical-align: top;\n",
       "    }\n",
       "\n",
       "    .dataframe thead th {\n",
       "        text-align: right;\n",
       "    }\n",
       "</style>\n",
       "<table border=\"1\" class=\"dataframe\">\n",
       "  <thead>\n",
       "    <tr style=\"text-align: right;\">\n",
       "      <th></th>\n",
       "      <th>Artist</th>\n",
       "      <th>Nationality</th>\n",
       "      <th>Gender</th>\n",
       "      <th>Date</th>\n",
       "      <th>Department</th>\n",
       "      <th>DateAcquired</th>\n",
       "      <th>URL</th>\n",
       "      <th>ThumbnailURL</th>\n",
       "      <th>Height (cm)</th>\n",
       "      <th>Width (cm)</th>\n",
       "    </tr>\n",
       "  </thead>\n",
       "  <tbody>\n",
       "    <tr>\n",
       "      <th>0</th>\n",
       "      <td>Otto Wagner</td>\n",
       "      <td>(Austrian)</td>\n",
       "      <td>(Male)</td>\n",
       "      <td>1896</td>\n",
       "      <td>Architecture &amp; Design</td>\n",
       "      <td>1996-04-09</td>\n",
       "      <td>True</td>\n",
       "      <td>True</td>\n",
       "      <td>48.6000</td>\n",
       "      <td>168.9000</td>\n",
       "    </tr>\n",
       "    <tr>\n",
       "      <th>1</th>\n",
       "      <td>Christian de Portzamparc</td>\n",
       "      <td>(French)</td>\n",
       "      <td>(Male)</td>\n",
       "      <td>1987</td>\n",
       "      <td>Architecture &amp; Design</td>\n",
       "      <td>1995-01-17</td>\n",
       "      <td>True</td>\n",
       "      <td>True</td>\n",
       "      <td>40.6401</td>\n",
       "      <td>29.8451</td>\n",
       "    </tr>\n",
       "    <tr>\n",
       "      <th>2</th>\n",
       "      <td>Emil Hoppe</td>\n",
       "      <td>(Austrian)</td>\n",
       "      <td>(Male)</td>\n",
       "      <td>1903</td>\n",
       "      <td>Architecture &amp; Design</td>\n",
       "      <td>1997-01-15</td>\n",
       "      <td>True</td>\n",
       "      <td>True</td>\n",
       "      <td>34.3000</td>\n",
       "      <td>31.8000</td>\n",
       "    </tr>\n",
       "    <tr>\n",
       "      <th>3</th>\n",
       "      <td>Bernard Tschumi</td>\n",
       "      <td>()</td>\n",
       "      <td>(Male)</td>\n",
       "      <td>1980</td>\n",
       "      <td>Architecture &amp; Design</td>\n",
       "      <td>1995-01-17</td>\n",
       "      <td>True</td>\n",
       "      <td>True</td>\n",
       "      <td>50.8000</td>\n",
       "      <td>50.8000</td>\n",
       "    </tr>\n",
       "    <tr>\n",
       "      <th>4</th>\n",
       "      <td>Emil Hoppe</td>\n",
       "      <td>(Austrian)</td>\n",
       "      <td>(Male)</td>\n",
       "      <td>1903</td>\n",
       "      <td>Architecture &amp; Design</td>\n",
       "      <td>1997-01-15</td>\n",
       "      <td>True</td>\n",
       "      <td>True</td>\n",
       "      <td>38.4000</td>\n",
       "      <td>19.1000</td>\n",
       "    </tr>\n",
       "  </tbody>\n",
       "</table>\n",
       "</div>"
      ],
      "text/plain": [
       "                     Artist Nationality  Gender  Date             Department  \\\n",
       "0               Otto Wagner  (Austrian)  (Male)  1896  Architecture & Design   \n",
       "1  Christian de Portzamparc    (French)  (Male)  1987  Architecture & Design   \n",
       "2                Emil Hoppe  (Austrian)  (Male)  1903  Architecture & Design   \n",
       "3           Bernard Tschumi          ()  (Male)  1980  Architecture & Design   \n",
       "4                Emil Hoppe  (Austrian)  (Male)  1903  Architecture & Design   \n",
       "\n",
       "  DateAcquired   URL  ThumbnailURL  Height (cm)  Width (cm)  \n",
       "0   1996-04-09  True          True      48.6000    168.9000  \n",
       "1   1995-01-17  True          True      40.6401     29.8451  \n",
       "2   1997-01-15  True          True      34.3000     31.8000  \n",
       "3   1995-01-17  True          True      50.8000     50.8000  \n",
       "4   1997-01-15  True          True      38.4000     19.1000  "
      ]
     },
     "execution_count": 4,
     "metadata": {},
     "output_type": "execute_result"
    }
   ],
   "source": [
    "artworks.head()"
   ]
  },
  {
   "cell_type": "code",
   "execution_count": 5,
   "metadata": {},
   "outputs": [
    {
     "data": {
      "text/plain": [
       "(108413, 10)"
      ]
     },
     "execution_count": 5,
     "metadata": {},
     "output_type": "execute_result"
    }
   ],
   "source": [
    "artworks.shape"
   ]
  },
  {
   "cell_type": "code",
   "execution_count": 6,
   "metadata": {},
   "outputs": [
    {
     "data": {
      "text/plain": [
       "Artist           object\n",
       "Nationality      object\n",
       "Gender           object\n",
       "Date             object\n",
       "Department       object\n",
       "DateAcquired     object\n",
       "URL                bool\n",
       "ThumbnailURL       bool\n",
       "Height (cm)     float64\n",
       "Width (cm)      float64\n",
       "dtype: object"
      ]
     },
     "execution_count": 6,
     "metadata": {},
     "output_type": "execute_result"
    }
   ],
   "source": [
    "artworks.dtypes"
   ]
  },
  {
   "cell_type": "code",
   "execution_count": 7,
   "metadata": {},
   "outputs": [
    {
     "data": {
      "text/plain": [
       "dtype('int64')"
      ]
     },
     "execution_count": 7,
     "metadata": {},
     "output_type": "execute_result"
    }
   ],
   "source": [
    "artworks['DateAcquired'] = pd.to_datetime(artworks.DateAcquired)\n",
    "artworks['YearAcquired'] = artworks.DateAcquired.dt.year\n",
    "artworks['YearAcquired'].dtype"
   ]
  },
  {
   "cell_type": "code",
   "execution_count": 8,
   "metadata": {},
   "outputs": [],
   "source": [
    "# Remove multiple nationalities, genders, and artists.\n",
    "artworks.loc[artworks['Gender'].str.contains('\\) \\('), 'Gender'] = '\\(multiple_persons\\)'\n",
    "artworks.loc[artworks['Nationality'].str.contains('\\) \\('), 'Nationality'] = '\\(multiple_nationalities\\)'\n",
    "artworks.loc[artworks['Artist'].str.contains(','), 'Artist'] = 'Multiple_Artists'\n",
    "\n",
    "# Convert dates to start date, cutting down number of distinct examples.\n",
    "artworks['Date'] = pd.Series(artworks.Date.str.extract(\n",
    "    '([0-9]{4})', expand=False))[:-1]\n",
    "\n",
    "# Final column drops and NA drop.\n",
    "X = artworks.drop(['Department', 'DateAcquired', 'Artist', 'Nationality', 'Date'], 1)\n",
    "\n",
    "# Create dummies separately.\n",
    "artists = pd.get_dummies(artworks.Artist)\n",
    "nationalities = pd.get_dummies(artworks.Nationality)\n",
    "dates = pd.get_dummies(artworks.Date)\n",
    "\n",
    "# Concat with other variables, but artists slows this wayyyyy down so we'll keep it out for now\n",
    "X = pd.get_dummies(X, sparse=True)\n",
    "X = pd.concat([X, nationalities, dates], axis=1)\n",
    "\n",
    "Y = artworks.Department"
   ]
  },
  {
   "cell_type": "code",
   "execution_count": 9,
   "metadata": {},
   "outputs": [
    {
     "data": {
      "text/plain": [
       "MLPClassifier(activation='relu', alpha=0.0001, batch_size='auto', beta_1=0.9,\n",
       "       beta_2=0.999, early_stopping=False, epsilon=1e-08,\n",
       "       hidden_layer_sizes=(1000,), learning_rate='constant',\n",
       "       learning_rate_init=0.001, max_iter=200, momentum=0.9,\n",
       "       n_iter_no_change=10, nesterovs_momentum=True, power_t=0.5,\n",
       "       random_state=None, shuffle=True, solver='adam', tol=0.0001,\n",
       "       validation_fraction=0.1, verbose=False, warm_start=False)"
      ]
     },
     "execution_count": 9,
     "metadata": {},
     "output_type": "execute_result"
    }
   ],
   "source": [
    "from sklearn.neural_network import MLPClassifier\n",
    "\n",
    "## Takes like 20 mins\n",
    "mlp = MLPClassifier(hidden_layer_sizes=(1000,))\n",
    "mlp.fit(X, Y)"
   ]
  },
  {
   "cell_type": "code",
   "execution_count": 10,
   "metadata": {},
   "outputs": [
    {
     "data": {
      "text/plain": [
       "0.6706114580354755"
      ]
     },
     "execution_count": 10,
     "metadata": {},
     "output_type": "execute_result"
    }
   ],
   "source": [
    "mlp.score(X, Y)"
   ]
  },
  {
   "cell_type": "code",
   "execution_count": 11,
   "metadata": {},
   "outputs": [
    {
     "data": {
      "text/plain": [
       "Drawings & Prints        0.622536\n",
       "Photography              0.226449\n",
       "Architecture & Design    0.112957\n",
       "Painting & Sculpture     0.033686\n",
       "Media and Performance    0.004372\n",
       "Name: Department, dtype: float64"
      ]
     },
     "execution_count": 11,
     "metadata": {},
     "output_type": "execute_result"
    }
   ],
   "source": [
    "Y.value_counts() / len(Y)"
   ]
  },
  {
   "cell_type": "code",
   "execution_count": 13,
   "metadata": {
    "scrolled": true
   },
   "outputs": [
    {
     "name": "stderr",
     "output_type": "stream",
     "text": [
      "/usr/local/lib/python3.7/site-packages/sklearn/neural_network/multilayer_perceptron.py:564: UserWarning: Training interrupted by user.\n",
      "  warnings.warn(\"Training interrupted by user.\")\n",
      "/usr/local/lib/python3.7/site-packages/sklearn/neural_network/multilayer_perceptron.py:564: UserWarning: Training interrupted by user.\n",
      "  warnings.warn(\"Training interrupted by user.\")\n"
     ]
    },
    {
     "data": {
      "text/plain": [
       "array([0.71298132, 0.75137204, 0.65160041, 0.68785167, 0.56510309])"
      ]
     },
     "execution_count": 13,
     "metadata": {},
     "output_type": "execute_result"
    }
   ],
   "source": [
    "from sklearn.model_selection import cross_val_score\n",
    "cross_val_score(mlp, X, Y, cv=5)"
   ]
  },
  {
   "cell_type": "code",
   "execution_count": 15,
   "metadata": {},
   "outputs": [],
   "source": [
    "## I interrupted some of the folds so presumably it just output what it had so far."
   ]
  },
  {
   "cell_type": "markdown",
   "metadata": {},
   "source": [
    "## Drill - playing with layers"
   ]
  },
  {
   "cell_type": "code",
   "execution_count": 20,
   "metadata": {},
   "outputs": [],
   "source": [
    "## Reduce dataset size because it takes way too long\n",
    "\n",
    "from sklearn.model_selection import train_test_split\n",
    "\n",
    "x1, x2, y1, y2 = train_test_split(X, Y, test_size=0.9)"
   ]
  },
  {
   "cell_type": "code",
   "execution_count": 23,
   "metadata": {},
   "outputs": [
    {
     "data": {
      "text/plain": [
       "(10841, 320)"
      ]
     },
     "execution_count": 23,
     "metadata": {},
     "output_type": "execute_result"
    }
   ],
   "source": [
    "x1.shape"
   ]
  },
  {
   "cell_type": "code",
   "execution_count": 25,
   "metadata": {},
   "outputs": [
    {
     "name": "stdout",
     "output_type": "stream",
     "text": [
      "82.24539200000072\n"
     ]
    }
   ],
   "source": [
    "## Check it is shorter\n",
    "\n",
    "start_time = time.process_time()\n",
    "\n",
    "mlp = MLPClassifier(hidden_layer_sizes=(1000,))\n",
    "mlp.fit(x1, y1)\n",
    "\n",
    "print(time.process_time() - start_time)"
   ]
  },
  {
   "cell_type": "code",
   "execution_count": 26,
   "metadata": {},
   "outputs": [
    {
     "data": {
      "text/plain": [
       "0.6171939857946684"
      ]
     },
     "execution_count": 26,
     "metadata": {},
     "output_type": "execute_result"
    }
   ],
   "source": [
    "mlp.score(x1, y1)"
   ]
  },
  {
   "cell_type": "code",
   "execution_count": 36,
   "metadata": {},
   "outputs": [
    {
     "data": {
      "text/html": [
       "<div>\n",
       "<style scoped>\n",
       "    .dataframe tbody tr th:only-of-type {\n",
       "        vertical-align: middle;\n",
       "    }\n",
       "\n",
       "    .dataframe tbody tr th {\n",
       "        vertical-align: top;\n",
       "    }\n",
       "\n",
       "    .dataframe thead th {\n",
       "        text-align: right;\n",
       "    }\n",
       "</style>\n",
       "<table border=\"1\" class=\"dataframe\">\n",
       "  <thead>\n",
       "    <tr style=\"text-align: right;\">\n",
       "      <th>Department</th>\n",
       "      <th>Architecture &amp; Design</th>\n",
       "      <th>Drawings &amp; Prints</th>\n",
       "      <th>Media and Performance</th>\n",
       "      <th>Painting &amp; Sculpture</th>\n",
       "      <th>Photography</th>\n",
       "    </tr>\n",
       "    <tr>\n",
       "      <th>row_0</th>\n",
       "      <th></th>\n",
       "      <th></th>\n",
       "      <th></th>\n",
       "      <th></th>\n",
       "      <th></th>\n",
       "    </tr>\n",
       "  </thead>\n",
       "  <tbody>\n",
       "    <tr>\n",
       "      <th>Architecture &amp; Design</th>\n",
       "      <td>1039</td>\n",
       "      <td>1964</td>\n",
       "      <td>6</td>\n",
       "      <td>174</td>\n",
       "      <td>552</td>\n",
       "    </tr>\n",
       "    <tr>\n",
       "      <th>Drawings &amp; Prints</th>\n",
       "      <td>106</td>\n",
       "      <td>4199</td>\n",
       "      <td>16</td>\n",
       "      <td>32</td>\n",
       "      <td>557</td>\n",
       "    </tr>\n",
       "    <tr>\n",
       "      <th>Media and Performance</th>\n",
       "      <td>0</td>\n",
       "      <td>3</td>\n",
       "      <td>21</td>\n",
       "      <td>1</td>\n",
       "      <td>3</td>\n",
       "    </tr>\n",
       "    <tr>\n",
       "      <th>Painting &amp; Sculpture</th>\n",
       "      <td>25</td>\n",
       "      <td>159</td>\n",
       "      <td>2</td>\n",
       "      <td>167</td>\n",
       "      <td>28</td>\n",
       "    </tr>\n",
       "    <tr>\n",
       "      <th>Photography</th>\n",
       "      <td>34</td>\n",
       "      <td>472</td>\n",
       "      <td>4</td>\n",
       "      <td>12</td>\n",
       "      <td>1265</td>\n",
       "    </tr>\n",
       "  </tbody>\n",
       "</table>\n",
       "</div>"
      ],
      "text/plain": [
       "Department             Architecture & Design  Drawings & Prints  \\\n",
       "row_0                                                             \n",
       "Architecture & Design                   1039               1964   \n",
       "Drawings & Prints                        106               4199   \n",
       "Media and Performance                      0                  3   \n",
       "Painting & Sculpture                      25                159   \n",
       "Photography                               34                472   \n",
       "\n",
       "Department             Media and Performance  Painting & Sculpture  \\\n",
       "row_0                                                                \n",
       "Architecture & Design                      6                   174   \n",
       "Drawings & Prints                         16                    32   \n",
       "Media and Performance                     21                     1   \n",
       "Painting & Sculpture                       2                   167   \n",
       "Photography                                4                    12   \n",
       "\n",
       "Department             Photography  \n",
       "row_0                               \n",
       "Architecture & Design          552  \n",
       "Drawings & Prints              557  \n",
       "Media and Performance            3  \n",
       "Painting & Sculpture            28  \n",
       "Photography                   1265  "
      ]
     },
     "execution_count": 36,
     "metadata": {},
     "output_type": "execute_result"
    }
   ],
   "source": [
    "ypred = mlp.predict(x1)\n",
    "pd.crosstab(ypred, y1)"
   ]
  },
  {
   "cell_type": "code",
   "execution_count": 31,
   "metadata": {},
   "outputs": [
    {
     "name": "stdout",
     "output_type": "stream",
     "text": [
      "185.88758099999905\n",
      "[0.67603687 0.43107423 0.69741697 0.45156827 0.54385965]\n"
     ]
    }
   ],
   "source": [
    "start_time = time.process_time()\n",
    "\n",
    "mlp_cv = cross_val_score(mlp, x1, y1, cv=5)\n",
    "\n",
    "print(time.process_time() - start_time)\n",
    "print(mlp_cv)"
   ]
  },
  {
   "cell_type": "markdown",
   "metadata": {},
   "source": [
    "#### Changing hidden layer structures"
   ]
  },
  {
   "cell_type": "code",
   "execution_count": 32,
   "metadata": {},
   "outputs": [
    {
     "name": "stdout",
     "output_type": "stream",
     "text": [
      "38.11434100000042\n"
     ]
    },
    {
     "name": "stderr",
     "output_type": "stream",
     "text": [
      "/usr/local/lib/python3.7/site-packages/sklearn/neural_network/multilayer_perceptron.py:562: ConvergenceWarning: Stochastic Optimizer: Maximum iterations (200) reached and the optimization hasn't converged yet.\n",
      "  % self.max_iter, ConvergenceWarning)\n"
     ]
    }
   ],
   "source": [
    "start_time = time.process_time()\n",
    "\n",
    "mlp2 = MLPClassifier(hidden_layer_sizes=(100, 10))\n",
    "mlp2.fit(x1, y1)\n",
    "\n",
    "print(time.process_time() - start_time)"
   ]
  },
  {
   "cell_type": "code",
   "execution_count": 33,
   "metadata": {},
   "outputs": [
    {
     "name": "stdout",
     "output_type": "stream",
     "text": [
      "0.621160409556314\n"
     ]
    }
   ],
   "source": [
    "print(mlp2.score(x1, y1))"
   ]
  },
  {
   "cell_type": "code",
   "execution_count": 34,
   "metadata": {},
   "outputs": [],
   "source": [
    "ypred2 = mlp2.predict(x1)"
   ]
  },
  {
   "cell_type": "code",
   "execution_count": 35,
   "metadata": {},
   "outputs": [
    {
     "data": {
      "text/html": [
       "<div>\n",
       "<style scoped>\n",
       "    .dataframe tbody tr th:only-of-type {\n",
       "        vertical-align: middle;\n",
       "    }\n",
       "\n",
       "    .dataframe tbody tr th {\n",
       "        vertical-align: top;\n",
       "    }\n",
       "\n",
       "    .dataframe thead th {\n",
       "        text-align: right;\n",
       "    }\n",
       "</style>\n",
       "<table border=\"1\" class=\"dataframe\">\n",
       "  <thead>\n",
       "    <tr style=\"text-align: right;\">\n",
       "      <th>Department</th>\n",
       "      <th>Architecture &amp; Design</th>\n",
       "      <th>Drawings &amp; Prints</th>\n",
       "      <th>Media and Performance</th>\n",
       "      <th>Painting &amp; Sculpture</th>\n",
       "      <th>Photography</th>\n",
       "    </tr>\n",
       "    <tr>\n",
       "      <th>row_0</th>\n",
       "      <th></th>\n",
       "      <th></th>\n",
       "      <th></th>\n",
       "      <th></th>\n",
       "      <th></th>\n",
       "    </tr>\n",
       "  </thead>\n",
       "  <tbody>\n",
       "    <tr>\n",
       "      <th>Architecture &amp; Design</th>\n",
       "      <td>871</td>\n",
       "      <td>935</td>\n",
       "      <td>10</td>\n",
       "      <td>286</td>\n",
       "      <td>447</td>\n",
       "    </tr>\n",
       "    <tr>\n",
       "      <th>Drawings &amp; Prints</th>\n",
       "      <td>333</td>\n",
       "      <td>5862</td>\n",
       "      <td>38</td>\n",
       "      <td>100</td>\n",
       "      <td>1958</td>\n",
       "    </tr>\n",
       "    <tr>\n",
       "      <th>Media and Performance</th>\n",
       "      <td>0</td>\n",
       "      <td>0</td>\n",
       "      <td>1</td>\n",
       "      <td>0</td>\n",
       "      <td>0</td>\n",
       "    </tr>\n",
       "  </tbody>\n",
       "</table>\n",
       "</div>"
      ],
      "text/plain": [
       "Department             Architecture & Design  Drawings & Prints  \\\n",
       "row_0                                                             \n",
       "Architecture & Design                    871                935   \n",
       "Drawings & Prints                        333               5862   \n",
       "Media and Performance                      0                  0   \n",
       "\n",
       "Department             Media and Performance  Painting & Sculpture  \\\n",
       "row_0                                                                \n",
       "Architecture & Design                     10                   286   \n",
       "Drawings & Prints                         38                   100   \n",
       "Media and Performance                      1                     0   \n",
       "\n",
       "Department             Photography  \n",
       "row_0                               \n",
       "Architecture & Design          447  \n",
       "Drawings & Prints             1958  \n",
       "Media and Performance            0  "
      ]
     },
     "execution_count": 35,
     "metadata": {},
     "output_type": "execute_result"
    }
   ],
   "source": [
    "pd.crosstab(ypred2, y1)"
   ]
  },
  {
   "cell_type": "markdown",
   "metadata": {},
   "source": [
    "1 layer of 1000 perceptrons seems to be slower but more accurate than 10 layers of 100 perceptrons."
   ]
  },
  {
   "cell_type": "code",
   "execution_count": 37,
   "metadata": {},
   "outputs": [
    {
     "name": "stdout",
     "output_type": "stream",
     "text": [
      "31.66483700000026\n",
      "0.6269716815791901\n"
     ]
    },
    {
     "data": {
      "text/html": [
       "<div>\n",
       "<style scoped>\n",
       "    .dataframe tbody tr th:only-of-type {\n",
       "        vertical-align: middle;\n",
       "    }\n",
       "\n",
       "    .dataframe tbody tr th {\n",
       "        vertical-align: top;\n",
       "    }\n",
       "\n",
       "    .dataframe thead th {\n",
       "        text-align: right;\n",
       "    }\n",
       "</style>\n",
       "<table border=\"1\" class=\"dataframe\">\n",
       "  <thead>\n",
       "    <tr style=\"text-align: right;\">\n",
       "      <th>Department</th>\n",
       "      <th>Architecture &amp; Design</th>\n",
       "      <th>Drawings &amp; Prints</th>\n",
       "      <th>Media and Performance</th>\n",
       "      <th>Painting &amp; Sculpture</th>\n",
       "      <th>Photography</th>\n",
       "    </tr>\n",
       "    <tr>\n",
       "      <th>row_0</th>\n",
       "      <th></th>\n",
       "      <th></th>\n",
       "      <th></th>\n",
       "      <th></th>\n",
       "      <th></th>\n",
       "    </tr>\n",
       "  </thead>\n",
       "  <tbody>\n",
       "    <tr>\n",
       "      <th>Drawings &amp; Prints</th>\n",
       "      <td>1204</td>\n",
       "      <td>6797</td>\n",
       "      <td>49</td>\n",
       "      <td>386</td>\n",
       "      <td>2405</td>\n",
       "    </tr>\n",
       "  </tbody>\n",
       "</table>\n",
       "</div>"
      ],
      "text/plain": [
       "Department         Architecture & Design  Drawings & Prints  \\\n",
       "row_0                                                         \n",
       "Drawings & Prints                   1204               6797   \n",
       "\n",
       "Department         Media and Performance  Painting & Sculpture  Photography  \n",
       "row_0                                                                        \n",
       "Drawings & Prints                     49                   386         2405  "
      ]
     },
     "execution_count": 37,
     "metadata": {},
     "output_type": "execute_result"
    }
   ],
   "source": [
    "## Try another change\n",
    "\n",
    "start_time = time.process_time()\n",
    "\n",
    "mlp3 = MLPClassifier(hidden_layer_sizes=(250, 4))\n",
    "mlp3.fit(x1, y1)\n",
    "\n",
    "print(time.process_time() - start_time)\n",
    "\n",
    "print(mlp3.score(x1, y1))\n",
    "\n",
    "ypred3 = mlp3.predict(x1)\n",
    "pd.crosstab(ypred3, y1)"
   ]
  },
  {
   "cell_type": "code",
   "execution_count": 41,
   "metadata": {},
   "outputs": [
    {
     "name": "stdout",
     "output_type": "stream",
     "text": [
      "50.038250000001426\n",
      "0.6269716815791901\n"
     ]
    },
    {
     "data": {
      "text/html": [
       "<div>\n",
       "<style scoped>\n",
       "    .dataframe tbody tr th:only-of-type {\n",
       "        vertical-align: middle;\n",
       "    }\n",
       "\n",
       "    .dataframe tbody tr th {\n",
       "        vertical-align: top;\n",
       "    }\n",
       "\n",
       "    .dataframe thead th {\n",
       "        text-align: right;\n",
       "    }\n",
       "</style>\n",
       "<table border=\"1\" class=\"dataframe\">\n",
       "  <thead>\n",
       "    <tr style=\"text-align: right;\">\n",
       "      <th>Department</th>\n",
       "      <th>Architecture &amp; Design</th>\n",
       "      <th>Drawings &amp; Prints</th>\n",
       "      <th>Media and Performance</th>\n",
       "      <th>Painting &amp; Sculpture</th>\n",
       "      <th>Photography</th>\n",
       "    </tr>\n",
       "    <tr>\n",
       "      <th>row_0</th>\n",
       "      <th></th>\n",
       "      <th></th>\n",
       "      <th></th>\n",
       "      <th></th>\n",
       "      <th></th>\n",
       "    </tr>\n",
       "  </thead>\n",
       "  <tbody>\n",
       "    <tr>\n",
       "      <th>Drawings &amp; Prints</th>\n",
       "      <td>1204</td>\n",
       "      <td>6797</td>\n",
       "      <td>49</td>\n",
       "      <td>386</td>\n",
       "      <td>2405</td>\n",
       "    </tr>\n",
       "  </tbody>\n",
       "</table>\n",
       "</div>"
      ],
      "text/plain": [
       "Department         Architecture & Design  Drawings & Prints  \\\n",
       "row_0                                                         \n",
       "Drawings & Prints                   1204               6797   \n",
       "\n",
       "Department         Media and Performance  Painting & Sculpture  Photography  \n",
       "row_0                                                                        \n",
       "Drawings & Prints                     49                   386         2405  "
      ]
     },
     "execution_count": 41,
     "metadata": {},
     "output_type": "execute_result"
    }
   ],
   "source": [
    "## Try another change\n",
    "\n",
    "start_time = time.process_time()\n",
    "\n",
    "mlp4 = MLPClassifier(hidden_layer_sizes=(500, 2))\n",
    "mlp4.fit(x1, y1)\n",
    "\n",
    "print(time.process_time() - start_time)\n",
    "\n",
    "print(mlp4.score(x1, y1))\n",
    "\n",
    "ypred4 = mlp4.predict(x1)\n",
    "pd.crosstab(ypred4, y1)"
   ]
  },
  {
   "cell_type": "code",
   "execution_count": 42,
   "metadata": {},
   "outputs": [
    {
     "name": "stdout",
     "output_type": "stream",
     "text": [
      "17.301148999998986\n",
      "0.6269716815791901\n"
     ]
    },
    {
     "data": {
      "text/html": [
       "<div>\n",
       "<style scoped>\n",
       "    .dataframe tbody tr th:only-of-type {\n",
       "        vertical-align: middle;\n",
       "    }\n",
       "\n",
       "    .dataframe tbody tr th {\n",
       "        vertical-align: top;\n",
       "    }\n",
       "\n",
       "    .dataframe thead th {\n",
       "        text-align: right;\n",
       "    }\n",
       "</style>\n",
       "<table border=\"1\" class=\"dataframe\">\n",
       "  <thead>\n",
       "    <tr style=\"text-align: right;\">\n",
       "      <th>Department</th>\n",
       "      <th>Architecture &amp; Design</th>\n",
       "      <th>Drawings &amp; Prints</th>\n",
       "      <th>Media and Performance</th>\n",
       "      <th>Painting &amp; Sculpture</th>\n",
       "      <th>Photography</th>\n",
       "    </tr>\n",
       "    <tr>\n",
       "      <th>row_0</th>\n",
       "      <th></th>\n",
       "      <th></th>\n",
       "      <th></th>\n",
       "      <th></th>\n",
       "      <th></th>\n",
       "    </tr>\n",
       "  </thead>\n",
       "  <tbody>\n",
       "    <tr>\n",
       "      <th>Drawings &amp; Prints</th>\n",
       "      <td>1204</td>\n",
       "      <td>6797</td>\n",
       "      <td>49</td>\n",
       "      <td>386</td>\n",
       "      <td>2405</td>\n",
       "    </tr>\n",
       "  </tbody>\n",
       "</table>\n",
       "</div>"
      ],
      "text/plain": [
       "Department         Architecture & Design  Drawings & Prints  \\\n",
       "row_0                                                         \n",
       "Drawings & Prints                   1204               6797   \n",
       "\n",
       "Department         Media and Performance  Painting & Sculpture  Photography  \n",
       "row_0                                                                        \n",
       "Drawings & Prints                     49                   386         2405  "
      ]
     },
     "execution_count": 42,
     "metadata": {},
     "output_type": "execute_result"
    }
   ],
   "source": [
    "## Try another change\n",
    "\n",
    "start_time = time.process_time()\n",
    "\n",
    "mlp5 = MLPClassifier(hidden_layer_sizes=(100, 5, 2))\n",
    "mlp5.fit(x1, y1)\n",
    "\n",
    "print(time.process_time() - start_time)\n",
    "\n",
    "print(mlp5.score(x1, y1))\n",
    "\n",
    "ypred5 = mlp5.predict(x1)\n",
    "pd.crosstab(ypred5, y1)"
   ]
  },
  {
   "cell_type": "code",
   "execution_count": 43,
   "metadata": {},
   "outputs": [
    {
     "name": "stdout",
     "output_type": "stream",
     "text": [
      "37.614246000001\n",
      "0.6818559173507979\n"
     ]
    },
    {
     "data": {
      "text/html": [
       "<div>\n",
       "<style scoped>\n",
       "    .dataframe tbody tr th:only-of-type {\n",
       "        vertical-align: middle;\n",
       "    }\n",
       "\n",
       "    .dataframe tbody tr th {\n",
       "        vertical-align: top;\n",
       "    }\n",
       "\n",
       "    .dataframe thead th {\n",
       "        text-align: right;\n",
       "    }\n",
       "</style>\n",
       "<table border=\"1\" class=\"dataframe\">\n",
       "  <thead>\n",
       "    <tr style=\"text-align: right;\">\n",
       "      <th>Department</th>\n",
       "      <th>Architecture &amp; Design</th>\n",
       "      <th>Drawings &amp; Prints</th>\n",
       "      <th>Media and Performance</th>\n",
       "      <th>Painting &amp; Sculpture</th>\n",
       "      <th>Photography</th>\n",
       "    </tr>\n",
       "    <tr>\n",
       "      <th>row_0</th>\n",
       "      <th></th>\n",
       "      <th></th>\n",
       "      <th></th>\n",
       "      <th></th>\n",
       "      <th></th>\n",
       "    </tr>\n",
       "  </thead>\n",
       "  <tbody>\n",
       "    <tr>\n",
       "      <th>Architecture &amp; Design</th>\n",
       "      <td>2</td>\n",
       "      <td>0</td>\n",
       "      <td>0</td>\n",
       "      <td>0</td>\n",
       "      <td>0</td>\n",
       "    </tr>\n",
       "    <tr>\n",
       "      <th>Drawings &amp; Prints</th>\n",
       "      <td>1176</td>\n",
       "      <td>6230</td>\n",
       "      <td>47</td>\n",
       "      <td>383</td>\n",
       "      <td>1245</td>\n",
       "    </tr>\n",
       "    <tr>\n",
       "      <th>Photography</th>\n",
       "      <td>26</td>\n",
       "      <td>567</td>\n",
       "      <td>2</td>\n",
       "      <td>3</td>\n",
       "      <td>1160</td>\n",
       "    </tr>\n",
       "  </tbody>\n",
       "</table>\n",
       "</div>"
      ],
      "text/plain": [
       "Department             Architecture & Design  Drawings & Prints  \\\n",
       "row_0                                                             \n",
       "Architecture & Design                      2                  0   \n",
       "Drawings & Prints                       1176               6230   \n",
       "Photography                               26                567   \n",
       "\n",
       "Department             Media and Performance  Painting & Sculpture  \\\n",
       "row_0                                                                \n",
       "Architecture & Design                      0                     0   \n",
       "Drawings & Prints                         47                   383   \n",
       "Photography                                2                     3   \n",
       "\n",
       "Department             Photography  \n",
       "row_0                               \n",
       "Architecture & Design            0  \n",
       "Drawings & Prints             1245  \n",
       "Photography                   1160  "
      ]
     },
     "execution_count": 43,
     "metadata": {},
     "output_type": "execute_result"
    }
   ],
   "source": [
    "## Try another change\n",
    "\n",
    "start_time = time.process_time()\n",
    "\n",
    "mlp6 = MLPClassifier(hidden_layer_sizes=(100, 5, 5))\n",
    "mlp6.fit(x1, y1)\n",
    "\n",
    "print(time.process_time() - start_time)\n",
    "\n",
    "print(mlp6.score(x1, y1))\n",
    "\n",
    "ypred6 = mlp6.predict(x1)\n",
    "pd.crosstab(ypred6, y1)"
   ]
  },
  {
   "cell_type": "code",
   "execution_count": 44,
   "metadata": {},
   "outputs": [
    {
     "name": "stdout",
     "output_type": "stream",
     "text": [
      "65.74068099999931\n",
      "0.6269716815791901\n"
     ]
    },
    {
     "data": {
      "text/html": [
       "<div>\n",
       "<style scoped>\n",
       "    .dataframe tbody tr th:only-of-type {\n",
       "        vertical-align: middle;\n",
       "    }\n",
       "\n",
       "    .dataframe tbody tr th {\n",
       "        vertical-align: top;\n",
       "    }\n",
       "\n",
       "    .dataframe thead th {\n",
       "        text-align: right;\n",
       "    }\n",
       "</style>\n",
       "<table border=\"1\" class=\"dataframe\">\n",
       "  <thead>\n",
       "    <tr style=\"text-align: right;\">\n",
       "      <th>Department</th>\n",
       "      <th>Architecture &amp; Design</th>\n",
       "      <th>Drawings &amp; Prints</th>\n",
       "      <th>Media and Performance</th>\n",
       "      <th>Painting &amp; Sculpture</th>\n",
       "      <th>Photography</th>\n",
       "    </tr>\n",
       "    <tr>\n",
       "      <th>row_0</th>\n",
       "      <th></th>\n",
       "      <th></th>\n",
       "      <th></th>\n",
       "      <th></th>\n",
       "      <th></th>\n",
       "    </tr>\n",
       "  </thead>\n",
       "  <tbody>\n",
       "    <tr>\n",
       "      <th>Drawings &amp; Prints</th>\n",
       "      <td>1204</td>\n",
       "      <td>6797</td>\n",
       "      <td>49</td>\n",
       "      <td>386</td>\n",
       "      <td>2405</td>\n",
       "    </tr>\n",
       "  </tbody>\n",
       "</table>\n",
       "</div>"
      ],
      "text/plain": [
       "Department         Architecture & Design  Drawings & Prints  \\\n",
       "row_0                                                         \n",
       "Drawings & Prints                   1204               6797   \n",
       "\n",
       "Department         Media and Performance  Painting & Sculpture  Photography  \n",
       "row_0                                                                        \n",
       "Drawings & Prints                     49                   386         2405  "
      ]
     },
     "execution_count": 44,
     "metadata": {},
     "output_type": "execute_result"
    }
   ],
   "source": [
    "## Try another change\n",
    "\n",
    "start_time = time.process_time()\n",
    "\n",
    "mlp7 = MLPClassifier(hidden_layer_sizes=(1000, 5, 5))\n",
    "mlp7.fit(x1, y1)\n",
    "\n",
    "print(time.process_time() - start_time)\n",
    "\n",
    "print(mlp7.score(x1, y1))\n",
    "\n",
    "ypred7 = mlp7.predict(x1)\n",
    "pd.crosstab(ypred7, y1)"
   ]
  },
  {
   "cell_type": "code",
   "execution_count": 45,
   "metadata": {},
   "outputs": [
    {
     "name": "stdout",
     "output_type": "stream",
     "text": [
      "18.59429199999795\n",
      "0.5460750853242321\n"
     ]
    },
    {
     "data": {
      "text/html": [
       "<div>\n",
       "<style scoped>\n",
       "    .dataframe tbody tr th:only-of-type {\n",
       "        vertical-align: middle;\n",
       "    }\n",
       "\n",
       "    .dataframe tbody tr th {\n",
       "        vertical-align: top;\n",
       "    }\n",
       "\n",
       "    .dataframe thead th {\n",
       "        text-align: right;\n",
       "    }\n",
       "</style>\n",
       "<table border=\"1\" class=\"dataframe\">\n",
       "  <thead>\n",
       "    <tr style=\"text-align: right;\">\n",
       "      <th>Department</th>\n",
       "      <th>Architecture &amp; Design</th>\n",
       "      <th>Drawings &amp; Prints</th>\n",
       "      <th>Media and Performance</th>\n",
       "      <th>Painting &amp; Sculpture</th>\n",
       "      <th>Photography</th>\n",
       "    </tr>\n",
       "    <tr>\n",
       "      <th>row_0</th>\n",
       "      <th></th>\n",
       "      <th></th>\n",
       "      <th></th>\n",
       "      <th></th>\n",
       "      <th></th>\n",
       "    </tr>\n",
       "  </thead>\n",
       "  <tbody>\n",
       "    <tr>\n",
       "      <th>Architecture &amp; Design</th>\n",
       "      <td>217</td>\n",
       "      <td>47</td>\n",
       "      <td>0</td>\n",
       "      <td>21</td>\n",
       "      <td>6</td>\n",
       "    </tr>\n",
       "    <tr>\n",
       "      <th>Drawings &amp; Prints</th>\n",
       "      <td>237</td>\n",
       "      <td>3390</td>\n",
       "      <td>31</td>\n",
       "      <td>98</td>\n",
       "      <td>192</td>\n",
       "    </tr>\n",
       "    <tr>\n",
       "      <th>Media and Performance</th>\n",
       "      <td>0</td>\n",
       "      <td>0</td>\n",
       "      <td>1</td>\n",
       "      <td>0</td>\n",
       "      <td>0</td>\n",
       "    </tr>\n",
       "    <tr>\n",
       "      <th>Painting &amp; Sculpture</th>\n",
       "      <td>30</td>\n",
       "      <td>38</td>\n",
       "      <td>2</td>\n",
       "      <td>117</td>\n",
       "      <td>12</td>\n",
       "    </tr>\n",
       "    <tr>\n",
       "      <th>Photography</th>\n",
       "      <td>720</td>\n",
       "      <td>3322</td>\n",
       "      <td>15</td>\n",
       "      <td>150</td>\n",
       "      <td>2195</td>\n",
       "    </tr>\n",
       "  </tbody>\n",
       "</table>\n",
       "</div>"
      ],
      "text/plain": [
       "Department             Architecture & Design  Drawings & Prints  \\\n",
       "row_0                                                             \n",
       "Architecture & Design                    217                 47   \n",
       "Drawings & Prints                        237               3390   \n",
       "Media and Performance                      0                  0   \n",
       "Painting & Sculpture                      30                 38   \n",
       "Photography                              720               3322   \n",
       "\n",
       "Department             Media and Performance  Painting & Sculpture  \\\n",
       "row_0                                                                \n",
       "Architecture & Design                      0                    21   \n",
       "Drawings & Prints                         31                    98   \n",
       "Media and Performance                      1                     0   \n",
       "Painting & Sculpture                       2                   117   \n",
       "Photography                               15                   150   \n",
       "\n",
       "Department             Photography  \n",
       "row_0                               \n",
       "Architecture & Design            6  \n",
       "Drawings & Prints              192  \n",
       "Media and Performance            0  \n",
       "Painting & Sculpture            12  \n",
       "Photography                   2195  "
      ]
     },
     "execution_count": 45,
     "metadata": {},
     "output_type": "execute_result"
    }
   ],
   "source": [
    "## Try another change\n",
    "\n",
    "start_time = time.process_time()\n",
    "\n",
    "mlp8 = MLPClassifier(hidden_layer_sizes=(500, ))\n",
    "mlp8.fit(x1, y1)\n",
    "\n",
    "print(time.process_time() - start_time)\n",
    "\n",
    "print(mlp8.score(x1, y1))\n",
    "\n",
    "ypred8 = mlp8.predict(x1)\n",
    "pd.crosstab(ypred8, y1)"
   ]
  },
  {
   "cell_type": "code",
   "execution_count": 46,
   "metadata": {},
   "outputs": [
    {
     "name": "stdout",
     "output_type": "stream",
     "text": [
      "75.0928079999976\n",
      "0.6483719214094641\n"
     ]
    },
    {
     "data": {
      "text/html": [
       "<div>\n",
       "<style scoped>\n",
       "    .dataframe tbody tr th:only-of-type {\n",
       "        vertical-align: middle;\n",
       "    }\n",
       "\n",
       "    .dataframe tbody tr th {\n",
       "        vertical-align: top;\n",
       "    }\n",
       "\n",
       "    .dataframe thead th {\n",
       "        text-align: right;\n",
       "    }\n",
       "</style>\n",
       "<table border=\"1\" class=\"dataframe\">\n",
       "  <thead>\n",
       "    <tr style=\"text-align: right;\">\n",
       "      <th>Department</th>\n",
       "      <th>Architecture &amp; Design</th>\n",
       "      <th>Drawings &amp; Prints</th>\n",
       "      <th>Media and Performance</th>\n",
       "      <th>Painting &amp; Sculpture</th>\n",
       "      <th>Photography</th>\n",
       "    </tr>\n",
       "    <tr>\n",
       "      <th>row_0</th>\n",
       "      <th></th>\n",
       "      <th></th>\n",
       "      <th></th>\n",
       "      <th></th>\n",
       "      <th></th>\n",
       "    </tr>\n",
       "  </thead>\n",
       "  <tbody>\n",
       "    <tr>\n",
       "      <th>Architecture &amp; Design</th>\n",
       "      <td>462</td>\n",
       "      <td>231</td>\n",
       "      <td>5</td>\n",
       "      <td>222</td>\n",
       "      <td>77</td>\n",
       "    </tr>\n",
       "    <tr>\n",
       "      <th>Drawings &amp; Prints</th>\n",
       "      <td>742</td>\n",
       "      <td>6566</td>\n",
       "      <td>43</td>\n",
       "      <td>164</td>\n",
       "      <td>2328</td>\n",
       "    </tr>\n",
       "    <tr>\n",
       "      <th>Media and Performance</th>\n",
       "      <td>0</td>\n",
       "      <td>0</td>\n",
       "      <td>1</td>\n",
       "      <td>0</td>\n",
       "      <td>0</td>\n",
       "    </tr>\n",
       "  </tbody>\n",
       "</table>\n",
       "</div>"
      ],
      "text/plain": [
       "Department             Architecture & Design  Drawings & Prints  \\\n",
       "row_0                                                             \n",
       "Architecture & Design                    462                231   \n",
       "Drawings & Prints                        742               6566   \n",
       "Media and Performance                      0                  0   \n",
       "\n",
       "Department             Media and Performance  Painting & Sculpture  \\\n",
       "row_0                                                                \n",
       "Architecture & Design                      5                   222   \n",
       "Drawings & Prints                         43                   164   \n",
       "Media and Performance                      1                     0   \n",
       "\n",
       "Department             Photography  \n",
       "row_0                               \n",
       "Architecture & Design           77  \n",
       "Drawings & Prints             2328  \n",
       "Media and Performance            0  "
      ]
     },
     "execution_count": 46,
     "metadata": {},
     "output_type": "execute_result"
    }
   ],
   "source": [
    "## Try another change\n",
    "\n",
    "start_time = time.process_time()\n",
    "\n",
    "mlp9 = MLPClassifier(hidden_layer_sizes=(500, 20))\n",
    "mlp9.fit(x1, y1)\n",
    "\n",
    "print(time.process_time() - start_time)\n",
    "\n",
    "print(mlp9.score(x1, y1))\n",
    "\n",
    "ypred9 = mlp9.predict(x1)\n",
    "pd.crosstab(ypred9, y1)"
   ]
  },
  {
   "cell_type": "markdown",
   "metadata": {},
   "source": [
    "To conclude, the number of neurons in the first layer appears to improve performance much more than adding another layer."
   ]
  },
  {
   "cell_type": "markdown",
   "metadata": {},
   "source": [
    "#### Look at alpha"
   ]
  },
  {
   "cell_type": "code",
   "execution_count": 50,
   "metadata": {},
   "outputs": [
    {
     "name": "stdout",
     "output_type": "stream",
     "text": [
      "11.946041000002879\n",
      "0.6801955539156904\n"
     ]
    },
    {
     "data": {
      "text/html": [
       "<div>\n",
       "<style scoped>\n",
       "    .dataframe tbody tr th:only-of-type {\n",
       "        vertical-align: middle;\n",
       "    }\n",
       "\n",
       "    .dataframe tbody tr th {\n",
       "        vertical-align: top;\n",
       "    }\n",
       "\n",
       "    .dataframe thead th {\n",
       "        text-align: right;\n",
       "    }\n",
       "</style>\n",
       "<table border=\"1\" class=\"dataframe\">\n",
       "  <thead>\n",
       "    <tr style=\"text-align: right;\">\n",
       "      <th>Department</th>\n",
       "      <th>Architecture &amp; Design</th>\n",
       "      <th>Drawings &amp; Prints</th>\n",
       "      <th>Media and Performance</th>\n",
       "      <th>Painting &amp; Sculpture</th>\n",
       "      <th>Photography</th>\n",
       "    </tr>\n",
       "    <tr>\n",
       "      <th>row_0</th>\n",
       "      <th></th>\n",
       "      <th></th>\n",
       "      <th></th>\n",
       "      <th></th>\n",
       "      <th></th>\n",
       "    </tr>\n",
       "  </thead>\n",
       "  <tbody>\n",
       "    <tr>\n",
       "      <th>Architecture &amp; Design</th>\n",
       "      <td>192</td>\n",
       "      <td>29</td>\n",
       "      <td>0</td>\n",
       "      <td>12</td>\n",
       "      <td>15</td>\n",
       "    </tr>\n",
       "    <tr>\n",
       "      <th>Drawings &amp; Prints</th>\n",
       "      <td>980</td>\n",
       "      <td>6737</td>\n",
       "      <td>46</td>\n",
       "      <td>326</td>\n",
       "      <td>1990</td>\n",
       "    </tr>\n",
       "    <tr>\n",
       "      <th>Media and Performance</th>\n",
       "      <td>0</td>\n",
       "      <td>0</td>\n",
       "      <td>1</td>\n",
       "      <td>0</td>\n",
       "      <td>0</td>\n",
       "    </tr>\n",
       "    <tr>\n",
       "      <th>Painting &amp; Sculpture</th>\n",
       "      <td>12</td>\n",
       "      <td>8</td>\n",
       "      <td>1</td>\n",
       "      <td>47</td>\n",
       "      <td>3</td>\n",
       "    </tr>\n",
       "    <tr>\n",
       "      <th>Photography</th>\n",
       "      <td>20</td>\n",
       "      <td>23</td>\n",
       "      <td>1</td>\n",
       "      <td>1</td>\n",
       "      <td>397</td>\n",
       "    </tr>\n",
       "  </tbody>\n",
       "</table>\n",
       "</div>"
      ],
      "text/plain": [
       "Department             Architecture & Design  Drawings & Prints  \\\n",
       "row_0                                                             \n",
       "Architecture & Design                    192                 29   \n",
       "Drawings & Prints                        980               6737   \n",
       "Media and Performance                      0                  0   \n",
       "Painting & Sculpture                      12                  8   \n",
       "Photography                               20                 23   \n",
       "\n",
       "Department             Media and Performance  Painting & Sculpture  \\\n",
       "row_0                                                                \n",
       "Architecture & Design                      0                    12   \n",
       "Drawings & Prints                         46                   326   \n",
       "Media and Performance                      1                     0   \n",
       "Painting & Sculpture                       1                    47   \n",
       "Photography                                1                     1   \n",
       "\n",
       "Department             Photography  \n",
       "row_0                               \n",
       "Architecture & Design           15  \n",
       "Drawings & Prints             1990  \n",
       "Media and Performance            0  \n",
       "Painting & Sculpture             3  \n",
       "Photography                    397  "
      ]
     },
     "execution_count": 50,
     "metadata": {},
     "output_type": "execute_result"
    }
   ],
   "source": [
    "## Starting place\n",
    "\n",
    "## Try another change\n",
    "\n",
    "start_time = time.process_time()\n",
    "\n",
    "mlp8 = MLPClassifier(random_state=43, hidden_layer_sizes=(500, ))\n",
    "mlp8.fit(x1, y1)\n",
    "\n",
    "print(time.process_time() - start_time)\n",
    "\n",
    "print(mlp8.score(x1, y1))\n",
    "\n",
    "ypred8 = mlp8.predict(x1)\n",
    "pd.crosstab(ypred8, y1)"
   ]
  },
  {
   "cell_type": "code",
   "execution_count": 49,
   "metadata": {},
   "outputs": [
    {
     "name": "stdout",
     "output_type": "stream",
     "text": [
      "14.760985999997501\n",
      "0.45899824739415185\n"
     ]
    },
    {
     "data": {
      "text/html": [
       "<div>\n",
       "<style scoped>\n",
       "    .dataframe tbody tr th:only-of-type {\n",
       "        vertical-align: middle;\n",
       "    }\n",
       "\n",
       "    .dataframe tbody tr th {\n",
       "        vertical-align: top;\n",
       "    }\n",
       "\n",
       "    .dataframe thead th {\n",
       "        text-align: right;\n",
       "    }\n",
       "</style>\n",
       "<table border=\"1\" class=\"dataframe\">\n",
       "  <thead>\n",
       "    <tr style=\"text-align: right;\">\n",
       "      <th>Department</th>\n",
       "      <th>Architecture &amp; Design</th>\n",
       "      <th>Drawings &amp; Prints</th>\n",
       "      <th>Media and Performance</th>\n",
       "      <th>Painting &amp; Sculpture</th>\n",
       "      <th>Photography</th>\n",
       "    </tr>\n",
       "    <tr>\n",
       "      <th>row_0</th>\n",
       "      <th></th>\n",
       "      <th></th>\n",
       "      <th></th>\n",
       "      <th></th>\n",
       "      <th></th>\n",
       "    </tr>\n",
       "  </thead>\n",
       "  <tbody>\n",
       "    <tr>\n",
       "      <th>Architecture &amp; Design</th>\n",
       "      <td>630</td>\n",
       "      <td>659</td>\n",
       "      <td>3</td>\n",
       "      <td>49</td>\n",
       "      <td>75</td>\n",
       "    </tr>\n",
       "    <tr>\n",
       "      <th>Drawings &amp; Prints</th>\n",
       "      <td>65</td>\n",
       "      <td>1921</td>\n",
       "      <td>23</td>\n",
       "      <td>21</td>\n",
       "      <td>75</td>\n",
       "    </tr>\n",
       "    <tr>\n",
       "      <th>Media and Performance</th>\n",
       "      <td>0</td>\n",
       "      <td>0</td>\n",
       "      <td>2</td>\n",
       "      <td>1</td>\n",
       "      <td>1</td>\n",
       "    </tr>\n",
       "    <tr>\n",
       "      <th>Painting &amp; Sculpture</th>\n",
       "      <td>80</td>\n",
       "      <td>204</td>\n",
       "      <td>3</td>\n",
       "      <td>215</td>\n",
       "      <td>46</td>\n",
       "    </tr>\n",
       "    <tr>\n",
       "      <th>Photography</th>\n",
       "      <td>429</td>\n",
       "      <td>4013</td>\n",
       "      <td>18</td>\n",
       "      <td>100</td>\n",
       "      <td>2208</td>\n",
       "    </tr>\n",
       "  </tbody>\n",
       "</table>\n",
       "</div>"
      ],
      "text/plain": [
       "Department             Architecture & Design  Drawings & Prints  \\\n",
       "row_0                                                             \n",
       "Architecture & Design                    630                659   \n",
       "Drawings & Prints                         65               1921   \n",
       "Media and Performance                      0                  0   \n",
       "Painting & Sculpture                      80                204   \n",
       "Photography                              429               4013   \n",
       "\n",
       "Department             Media and Performance  Painting & Sculpture  \\\n",
       "row_0                                                                \n",
       "Architecture & Design                      3                    49   \n",
       "Drawings & Prints                         23                    21   \n",
       "Media and Performance                      2                     1   \n",
       "Painting & Sculpture                       3                   215   \n",
       "Photography                               18                   100   \n",
       "\n",
       "Department             Photography  \n",
       "row_0                               \n",
       "Architecture & Design           75  \n",
       "Drawings & Prints               75  \n",
       "Media and Performance            1  \n",
       "Painting & Sculpture            46  \n",
       "Photography                   2208  "
      ]
     },
     "execution_count": 49,
     "metadata": {},
     "output_type": "execute_result"
    }
   ],
   "source": [
    "## Change alpha from 0.0001 (default) to 0.00001\n",
    "\n",
    "start_time = time.process_time()\n",
    "\n",
    "mlp8a = MLPClassifier(random_state=43, hidden_layer_sizes=(500, ), alpha=0.00001)\n",
    "mlp8a.fit(x1, y1)\n",
    "\n",
    "print(time.process_time() - start_time)\n",
    "\n",
    "print(mlp8a.score(x1, y1))\n",
    "\n",
    "ypred8a = mlp8a.predict(x1)\n",
    "pd.crosstab(ypred8a, y1)"
   ]
  },
  {
   "cell_type": "code",
   "execution_count": 51,
   "metadata": {},
   "outputs": [
    {
     "name": "stdout",
     "output_type": "stream",
     "text": [
      "16.756271000002016\n",
      "0.7084217323125173\n"
     ]
    },
    {
     "data": {
      "text/html": [
       "<div>\n",
       "<style scoped>\n",
       "    .dataframe tbody tr th:only-of-type {\n",
       "        vertical-align: middle;\n",
       "    }\n",
       "\n",
       "    .dataframe tbody tr th {\n",
       "        vertical-align: top;\n",
       "    }\n",
       "\n",
       "    .dataframe thead th {\n",
       "        text-align: right;\n",
       "    }\n",
       "</style>\n",
       "<table border=\"1\" class=\"dataframe\">\n",
       "  <thead>\n",
       "    <tr style=\"text-align: right;\">\n",
       "      <th>Department</th>\n",
       "      <th>Architecture &amp; Design</th>\n",
       "      <th>Drawings &amp; Prints</th>\n",
       "      <th>Media and Performance</th>\n",
       "      <th>Painting &amp; Sculpture</th>\n",
       "      <th>Photography</th>\n",
       "    </tr>\n",
       "    <tr>\n",
       "      <th>row_0</th>\n",
       "      <th></th>\n",
       "      <th></th>\n",
       "      <th></th>\n",
       "      <th></th>\n",
       "      <th></th>\n",
       "    </tr>\n",
       "  </thead>\n",
       "  <tbody>\n",
       "    <tr>\n",
       "      <th>Architecture &amp; Design</th>\n",
       "      <td>174</td>\n",
       "      <td>18</td>\n",
       "      <td>0</td>\n",
       "      <td>22</td>\n",
       "      <td>5</td>\n",
       "    </tr>\n",
       "    <tr>\n",
       "      <th>Drawings &amp; Prints</th>\n",
       "      <td>824</td>\n",
       "      <td>6261</td>\n",
       "      <td>44</td>\n",
       "      <td>284</td>\n",
       "      <td>1206</td>\n",
       "    </tr>\n",
       "    <tr>\n",
       "      <th>Media and Performance</th>\n",
       "      <td>0</td>\n",
       "      <td>0</td>\n",
       "      <td>1</td>\n",
       "      <td>0</td>\n",
       "      <td>0</td>\n",
       "    </tr>\n",
       "    <tr>\n",
       "      <th>Painting &amp; Sculpture</th>\n",
       "      <td>1</td>\n",
       "      <td>2</td>\n",
       "      <td>0</td>\n",
       "      <td>51</td>\n",
       "      <td>1</td>\n",
       "    </tr>\n",
       "    <tr>\n",
       "      <th>Photography</th>\n",
       "      <td>205</td>\n",
       "      <td>516</td>\n",
       "      <td>4</td>\n",
       "      <td>29</td>\n",
       "      <td>1193</td>\n",
       "    </tr>\n",
       "  </tbody>\n",
       "</table>\n",
       "</div>"
      ],
      "text/plain": [
       "Department             Architecture & Design  Drawings & Prints  \\\n",
       "row_0                                                             \n",
       "Architecture & Design                    174                 18   \n",
       "Drawings & Prints                        824               6261   \n",
       "Media and Performance                      0                  0   \n",
       "Painting & Sculpture                       1                  2   \n",
       "Photography                              205                516   \n",
       "\n",
       "Department             Media and Performance  Painting & Sculpture  \\\n",
       "row_0                                                                \n",
       "Architecture & Design                      0                    22   \n",
       "Drawings & Prints                         44                   284   \n",
       "Media and Performance                      1                     0   \n",
       "Painting & Sculpture                       0                    51   \n",
       "Photography                                4                    29   \n",
       "\n",
       "Department             Photography  \n",
       "row_0                               \n",
       "Architecture & Design            5  \n",
       "Drawings & Prints             1206  \n",
       "Media and Performance            0  \n",
       "Painting & Sculpture             1  \n",
       "Photography                   1193  "
      ]
     },
     "execution_count": 51,
     "metadata": {},
     "output_type": "execute_result"
    }
   ],
   "source": [
    "## Increase alpha\n",
    "\n",
    "start_time = time.process_time()\n",
    "\n",
    "mlp8b = MLPClassifier(random_state=43, hidden_layer_sizes=(500, ), alpha=0.001)\n",
    "mlp8b.fit(x1, y1)\n",
    "\n",
    "print(time.process_time() - start_time)\n",
    "\n",
    "print(mlp8b.score(x1, y1))\n",
    "\n",
    "ypred8b = mlp8b.predict(x1)\n",
    "pd.crosstab(ypred8b, y1)"
   ]
  },
  {
   "cell_type": "code",
   "execution_count": 53,
   "metadata": {},
   "outputs": [
    {
     "name": "stdout",
     "output_type": "stream",
     "text": [
      "9.943005999997695\n",
      "0.6601789502813393\n"
     ]
    },
    {
     "data": {
      "text/html": [
       "<div>\n",
       "<style scoped>\n",
       "    .dataframe tbody tr th:only-of-type {\n",
       "        vertical-align: middle;\n",
       "    }\n",
       "\n",
       "    .dataframe tbody tr th {\n",
       "        vertical-align: top;\n",
       "    }\n",
       "\n",
       "    .dataframe thead th {\n",
       "        text-align: right;\n",
       "    }\n",
       "</style>\n",
       "<table border=\"1\" class=\"dataframe\">\n",
       "  <thead>\n",
       "    <tr style=\"text-align: right;\">\n",
       "      <th>Department</th>\n",
       "      <th>Architecture &amp; Design</th>\n",
       "      <th>Drawings &amp; Prints</th>\n",
       "      <th>Media and Performance</th>\n",
       "      <th>Painting &amp; Sculpture</th>\n",
       "      <th>Photography</th>\n",
       "    </tr>\n",
       "    <tr>\n",
       "      <th>row_0</th>\n",
       "      <th></th>\n",
       "      <th></th>\n",
       "      <th></th>\n",
       "      <th></th>\n",
       "      <th></th>\n",
       "    </tr>\n",
       "  </thead>\n",
       "  <tbody>\n",
       "    <tr>\n",
       "      <th>Architecture &amp; Design</th>\n",
       "      <td>269</td>\n",
       "      <td>83</td>\n",
       "      <td>0</td>\n",
       "      <td>12</td>\n",
       "      <td>51</td>\n",
       "    </tr>\n",
       "    <tr>\n",
       "      <th>Drawings &amp; Prints</th>\n",
       "      <td>911</td>\n",
       "      <td>6690</td>\n",
       "      <td>45</td>\n",
       "      <td>286</td>\n",
       "      <td>2237</td>\n",
       "    </tr>\n",
       "    <tr>\n",
       "      <th>Media and Performance</th>\n",
       "      <td>0</td>\n",
       "      <td>0</td>\n",
       "      <td>1</td>\n",
       "      <td>0</td>\n",
       "      <td>0</td>\n",
       "    </tr>\n",
       "    <tr>\n",
       "      <th>Painting &amp; Sculpture</th>\n",
       "      <td>24</td>\n",
       "      <td>22</td>\n",
       "      <td>2</td>\n",
       "      <td>88</td>\n",
       "      <td>8</td>\n",
       "    </tr>\n",
       "    <tr>\n",
       "      <th>Photography</th>\n",
       "      <td>0</td>\n",
       "      <td>2</td>\n",
       "      <td>1</td>\n",
       "      <td>0</td>\n",
       "      <td>109</td>\n",
       "    </tr>\n",
       "  </tbody>\n",
       "</table>\n",
       "</div>"
      ],
      "text/plain": [
       "Department             Architecture & Design  Drawings & Prints  \\\n",
       "row_0                                                             \n",
       "Architecture & Design                    269                 83   \n",
       "Drawings & Prints                        911               6690   \n",
       "Media and Performance                      0                  0   \n",
       "Painting & Sculpture                      24                 22   \n",
       "Photography                                0                  2   \n",
       "\n",
       "Department             Media and Performance  Painting & Sculpture  \\\n",
       "row_0                                                                \n",
       "Architecture & Design                      0                    12   \n",
       "Drawings & Prints                         45                   286   \n",
       "Media and Performance                      1                     0   \n",
       "Painting & Sculpture                       2                    88   \n",
       "Photography                                1                     0   \n",
       "\n",
       "Department             Photography  \n",
       "row_0                               \n",
       "Architecture & Design           51  \n",
       "Drawings & Prints             2237  \n",
       "Media and Performance            0  \n",
       "Painting & Sculpture             8  \n",
       "Photography                    109  "
      ]
     },
     "execution_count": 53,
     "metadata": {},
     "output_type": "execute_result"
    }
   ],
   "source": [
    "## Increase alpha more\n",
    "\n",
    "start_time = time.process_time()\n",
    "\n",
    "mlp8c = MLPClassifier(random_state=43, hidden_layer_sizes=(500, ), alpha=0.005)\n",
    "mlp8c.fit(x1, y1)\n",
    "\n",
    "print(time.process_time() - start_time)\n",
    "\n",
    "print(mlp8c.score(x1, y1))\n",
    "\n",
    "ypred8c = mlp8c.predict(x1)\n",
    "pd.crosstab(ypred8c, y1)"
   ]
  },
  {
   "cell_type": "markdown",
   "metadata": {},
   "source": [
    "Changing alpha basically seems to move stuff from photography (low alpha) to drawing and prints (higher alpha)."
   ]
  },
  {
   "cell_type": "markdown",
   "metadata": {},
   "source": [
    "#### Look at activation"
   ]
  },
  {
   "cell_type": "code",
   "execution_count": 54,
   "metadata": {},
   "outputs": [
    {
     "name": "stdout",
     "output_type": "stream",
     "text": [
      "115.09492700000192\n",
      "0.7541739691910341\n"
     ]
    },
    {
     "data": {
      "text/html": [
       "<div>\n",
       "<style scoped>\n",
       "    .dataframe tbody tr th:only-of-type {\n",
       "        vertical-align: middle;\n",
       "    }\n",
       "\n",
       "    .dataframe tbody tr th {\n",
       "        vertical-align: top;\n",
       "    }\n",
       "\n",
       "    .dataframe thead th {\n",
       "        text-align: right;\n",
       "    }\n",
       "</style>\n",
       "<table border=\"1\" class=\"dataframe\">\n",
       "  <thead>\n",
       "    <tr style=\"text-align: right;\">\n",
       "      <th>Department</th>\n",
       "      <th>Architecture &amp; Design</th>\n",
       "      <th>Drawings &amp; Prints</th>\n",
       "      <th>Media and Performance</th>\n",
       "      <th>Painting &amp; Sculpture</th>\n",
       "      <th>Photography</th>\n",
       "    </tr>\n",
       "    <tr>\n",
       "      <th>row_0</th>\n",
       "      <th></th>\n",
       "      <th></th>\n",
       "      <th></th>\n",
       "      <th></th>\n",
       "      <th></th>\n",
       "    </tr>\n",
       "  </thead>\n",
       "  <tbody>\n",
       "    <tr>\n",
       "      <th>Architecture &amp; Design</th>\n",
       "      <td>344</td>\n",
       "      <td>35</td>\n",
       "      <td>0</td>\n",
       "      <td>26</td>\n",
       "      <td>11</td>\n",
       "    </tr>\n",
       "    <tr>\n",
       "      <th>Drawings &amp; Prints</th>\n",
       "      <td>667</td>\n",
       "      <td>6129</td>\n",
       "      <td>45</td>\n",
       "      <td>242</td>\n",
       "      <td>798</td>\n",
       "    </tr>\n",
       "    <tr>\n",
       "      <th>Media and Performance</th>\n",
       "      <td>0</td>\n",
       "      <td>0</td>\n",
       "      <td>1</td>\n",
       "      <td>0</td>\n",
       "      <td>0</td>\n",
       "    </tr>\n",
       "    <tr>\n",
       "      <th>Painting &amp; Sculpture</th>\n",
       "      <td>22</td>\n",
       "      <td>28</td>\n",
       "      <td>1</td>\n",
       "      <td>111</td>\n",
       "      <td>5</td>\n",
       "    </tr>\n",
       "    <tr>\n",
       "      <th>Photography</th>\n",
       "      <td>171</td>\n",
       "      <td>605</td>\n",
       "      <td>2</td>\n",
       "      <td>7</td>\n",
       "      <td>1591</td>\n",
       "    </tr>\n",
       "  </tbody>\n",
       "</table>\n",
       "</div>"
      ],
      "text/plain": [
       "Department             Architecture & Design  Drawings & Prints  \\\n",
       "row_0                                                             \n",
       "Architecture & Design                    344                 35   \n",
       "Drawings & Prints                        667               6129   \n",
       "Media and Performance                      0                  0   \n",
       "Painting & Sculpture                      22                 28   \n",
       "Photography                              171                605   \n",
       "\n",
       "Department             Media and Performance  Painting & Sculpture  \\\n",
       "row_0                                                                \n",
       "Architecture & Design                      0                    26   \n",
       "Drawings & Prints                         45                   242   \n",
       "Media and Performance                      1                     0   \n",
       "Painting & Sculpture                       1                   111   \n",
       "Photography                                2                     7   \n",
       "\n",
       "Department             Photography  \n",
       "row_0                               \n",
       "Architecture & Design           11  \n",
       "Drawings & Prints              798  \n",
       "Media and Performance            0  \n",
       "Painting & Sculpture             5  \n",
       "Photography                   1591  "
      ]
     },
     "execution_count": 54,
     "metadata": {},
     "output_type": "execute_result"
    }
   ],
   "source": [
    "## Switch to logistic\n",
    "\n",
    "start_time = time.process_time()\n",
    "\n",
    "mlp8c1 = MLPClassifier(random_state=43, hidden_layer_sizes=(500, ), \n",
    "                      alpha=0.005, activation='logistic')\n",
    "mlp8c1.fit(x1, y1)\n",
    "\n",
    "print(time.process_time() - start_time)\n",
    "\n",
    "print(mlp8c1.score(x1, y1))\n",
    "\n",
    "ypred8c1 = mlp8c1.predict(x1)\n",
    "pd.crosstab(ypred8c1, y1)"
   ]
  },
  {
   "cell_type": "code",
   "execution_count": null,
   "metadata": {},
   "outputs": [],
   "source": [
    "## This improved the model by about 5%."
   ]
  }
 ],
 "metadata": {
  "kernelspec": {
   "display_name": "Python 3",
   "language": "python",
   "name": "python3"
  },
  "language_info": {
   "codemirror_mode": {
    "name": "ipython",
    "version": 3
   },
   "file_extension": ".py",
   "mimetype": "text/x-python",
   "name": "python",
   "nbconvert_exporter": "python",
   "pygments_lexer": "ipython3",
   "version": "3.7.3"
  }
 },
 "nbformat": 4,
 "nbformat_minor": 2
}
